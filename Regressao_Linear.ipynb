{
  "nbformat": 4,
  "nbformat_minor": 0,
  "metadata": {
    "colab": {
      "name": "Regressao-Linear.ipynb",
      "provenance": [],
      "authorship_tag": "ABX9TyO6eSF8bIMxnE2h1U9sOEQP",
      "include_colab_link": true
    },
    "kernelspec": {
      "name": "python3",
      "display_name": "Python 3"
    }
  },
  "cells": [
    {
      "cell_type": "markdown",
      "metadata": {
        "id": "view-in-github",
        "colab_type": "text"
      },
      "source": [
        "<a href=\"https://colab.research.google.com/github/GuilhermeRuy97/Machine-Learning-Base/blob/main/Regressao_Linear.ipynb\" target=\"_parent\"><img src=\"https://colab.research.google.com/assets/colab-badge.svg\" alt=\"Open In Colab\"/></a>"
      ]
    },
    {
      "cell_type": "code",
      "metadata": {
        "id": "7wmG92JohYSr"
      },
      "source": [
        "import numpy as np\r\n",
        "import matplotlib.pyplot as plt\r\n",
        "from sklearn.linear_model import LinearRegression\r\n",
        "from sklearn.metrics import mean_squared_error, r2_score"
      ],
      "execution_count": 3,
      "outputs": []
    },
    {
      "cell_type": "code",
      "metadata": {
        "colab": {
          "base_uri": "https://localhost:8080/",
          "height": 299
        },
        "id": "_DVhr4jhin4B",
        "outputId": "63015584-9e8d-4742-8078-a30f0c1efb04"
      },
      "source": [
        "#gerando um data set aleatório\r\n",
        "np.random.seed(42)\r\n",
        "x = np.random.rand(100, 1)\r\n",
        "y = 2 + 3 * x + np.random.rand(100, 1)\r\n",
        "\r\n",
        "#pontos dos dados\r\n",
        "plt.scatter(x, y, s=10)\r\n",
        "plt.xlabel('x')\r\n",
        "plt.ylabel('y')"
      ],
      "execution_count": 8,
      "outputs": [
        {
          "output_type": "execute_result",
          "data": {
            "text/plain": [
              "Text(0, 0.5, 'y')"
            ]
          },
          "metadata": {
            "tags": []
          },
          "execution_count": 8
        },
        {
          "output_type": "display_data",
          "data": {
            "image/png": "[encoded data removed]",
            "text/plain": [
              "<Figure size 432x288 with 1 Axes>"
            ]
          },
          "metadata": {
            "tags": [],
            "needs_background": "light"
          }
        }
      ]
    },
    {
      "cell_type": "code",
      "metadata": {
        "colab": {
          "base_uri": "https://localhost:8080/"
        },
        "id": "AXze11T6jPd9",
        "outputId": "5348ba7a-ccdb-49d7-cef2-f7d8d42f64d6"
      },
      "source": [
        "#sckit-learn implementation: https://scikit-learn.org/stable/\r\n",
        "\r\n",
        "#Inicialização do modelo\r\n",
        "regression_model = LinearRegression()\r\n",
        "#Treinando o modelo\r\n",
        "regression_model.fit(x, y) #lembrar-se de que neste exemplo, usa-se todo o conjunto e não um treino ou validação ou teste0\r\n",
        "#Predict\r\n",
        "y_predicted = regression_model.predict(x)\r\n",
        "\r\n",
        "#Avaliação de modelo\r\n",
        "rmse = mean_squared_error(y, y_predicted)\r\n",
        "r2 = r2_score(y, y_predicted)\r\n",
        "\r\n",
        "print('Slope: ', regression_model.coef_)\r\n",
        "print('Intercept: ', regression_model.intercept_)\r\n",
        "print('Root mean squared error: ', rmse) #melhor quanto mais próximo de 0\r\n",
        "print('R2 score: ', r2)"
      ],
      "execution_count": 11,
      "outputs": [
        {
          "output_type": "stream",
          "text": [
            "Slope:  [[2.96646836]]\n",
            "Intercept:  [2.51359766]\n",
            "Root mean squared error:  0.08495655256593736\n",
            "R2 score:  0.9007473284443555\n"
          ],
          "name": "stdout"
        }
      ]
    },
    {
      "cell_type": "code",
      "metadata": {
        "colab": {
          "base_uri": "https://localhost:8080/",
          "height": 282
        },
        "id": "4qUqj46wlUP9",
        "outputId": "8877b29d-701d-40af-971e-cc8e86dc2dad"
      },
      "source": [
        "#plotando valores\r\n",
        "plt.scatter(x, y, s=10)\r\n",
        "plt.xlabel('x')\r\n",
        "plt.ylabel('y')\r\n",
        "\r\n",
        "#valores preditos\r\n",
        "plt.plot(x, y_predicted, color = 'r')\r\n",
        "plt.show()"
      ],
      "execution_count": 12,
      "outputs": [
        {
          "output_type": "display_data",
          "data": {
            "image/png": "[encoded data removed]",
            "text/plain": [
              "<Figure size 432x288 with 1 Axes>"
            ]
          },
          "metadata": {
            "tags": [],
            "needs_background": "light"
          }
        }
      ]
    },
    {
      "cell_type": "code",
      "metadata": {
        "colab": {
          "base_uri": "https://localhost:8080/",
          "height": 265
        },
        "id": "bk59opxjmAOi",
        "outputId": "46d94985-57a1-4ce3-9fb2-48f0edddf0e6"
      },
      "source": [
        "#Regressão polinomial\r\n",
        "\r\n",
        "#gerando um data-set aleatório\r\n",
        "np.random.seed(0)\r\n",
        "x = 2 - 3 * np.random.normal(0, 1, 20)\r\n",
        "y = x - 2 * (x **2) + 0.5 * (x ** 3) + np.random.normal(-3, 3, 20)\r\n",
        "plt.scatter(x, y, s=10)\r\n",
        "plt.show()"
      ],
      "execution_count": 13,
      "outputs": [
        {
          "output_type": "display_data",
          "data": {
            "image/png": "[encoded data removed]",
            "text/plain": [
              "<Figure size 432x288 with 1 Axes>"
            ]
          },
          "metadata": {
            "tags": [],
            "needs_background": "light"
          }
        }
      ]
    },
    {
      "cell_type": "code",
      "metadata": {
        "colab": {
          "base_uri": "https://localhost:8080/",
          "height": 332
        },
        "id": "oyi_r6p7mb4t",
        "outputId": "b4e0417f-5d68-42b2-bb18-ad01e1f8b704"
      },
      "source": [
        "#Transformando a data para incluir outro eixo\r\n",
        "x = x[:, np.newaxis]\r\n",
        "y = y[:, np.newaxis]\r\n",
        "\r\n",
        "#sckit-learn implementation\r\n",
        "model = LinearRegression()\r\n",
        "model.fit(x, y)\r\n",
        "y_pred = model.predict(x)\r\n",
        "\r\n",
        "plt.scatter(x, y, s=10)\r\n",
        "plt.plot(x, y_pred, color = 'r')\r\n",
        "plt.show()\r\n",
        "\r\n",
        "#avaliação de modelo\r\n",
        "rmse = mean_squared_error(y, y_pred)\r\n",
        "r2 = r2_score(y, y_pred)\r\n",
        "\r\n",
        "print('Slope: ', regression_model.coef_)\r\n",
        "print('Intercept: ', regression_model.intercept_)\r\n",
        "print('Root mean squared error: ', rmse) #melhor quanto mais próximo de 0 // perceba o resultado\r\n",
        "                                         #o que mostra como a regressão linear não é adequada\r\n",
        "print('R2 score: ', r2)"
      ],
      "execution_count": 14,
      "outputs": [
        {
          "output_type": "display_data",
          "data": {
            "image/png": "[encoded data removed]",
            "text/plain": [
              "<Figure size 432x288 with 1 Axes>"
            ]
          },
          "metadata": {
            "tags": [],
            "needs_background": "light"
          }
        },
        {
          "output_type": "stream",
          "text": [
            "Slope:  [[2.96646836]]\n",
            "Intercept:  [2.51359766]\n",
            "Root mean squared error:  253.07217948430375\n",
            "R2 score:  0.6386750054827146\n"
          ],
          "name": "stdout"
        }
      ]
    },
    {
      "cell_type": "code",
      "metadata": {
        "colab": {
          "base_uri": "https://localhost:8080/",
          "height": 298
        },
        "id": "OyWJHsIYnh-p",
        "outputId": "40da968f-52e4-4cbd-e97a-76bb7da6e1a0"
      },
      "source": [
        "import operator\r\n",
        "from sklearn.preprocessing import PolynomialFeatures\r\n",
        "\r\n",
        "np.random.seed(0)\r\n",
        "x = 2 - 3 * np.random.normal(0, 1, 20)\r\n",
        "y = x - 2 * (x**2) + 0.5 * (x**3) + np.random.normal(-3, 3, 20)\r\n",
        "\r\n",
        "x = x[:, np.newaxis]\r\n",
        "y = y[:, np.newaxis]\r\n",
        "\r\n",
        "polynomial_features = PolynomialFeatures(degree=2) #degree pode ser alterado\r\n",
        "x_poly = polynomial_features.fit_transform(x)\r\n",
        "\r\n",
        "model = LinearRegression()\r\n",
        "model.fit(x_poly, y)\r\n",
        "y_poly_pred = model.predict(x_poly)\r\n",
        "\r\n",
        "rmse = np.sqrt(mean_squared_error(y, y_poly_pred))\r\n",
        "r2 = r2_score(y, y_poly_pred)\r\n",
        "print(rmse)\r\n",
        "print(r2)\r\n",
        "\r\n",
        "plt.scatter(x, y, s=10)\r\n",
        "\r\n",
        "#Ordenando os valores de x antes de plotar\r\n",
        "sort_axis = operator.itemgetter(0)\r\n",
        "sorted_zip = sorted(zip(x, y_poly_pred), key=sort_axis)\r\n",
        "x, y_poly_pred = zip(*sorted_zip)\r\n",
        "plt.plot(x, y_poly_pred, color='m')\r\n",
        "plt.show()"
      ],
      "execution_count": 23,
      "outputs": [
        {
          "output_type": "stream",
          "text": [
            "10.120437473614711\n",
            "0.8537647164420812\n"
          ],
          "name": "stdout"
        },
        {
          "output_type": "display_data",
          "data": {
            "image/png": "[encoded data removed]",
            "text/plain": [
              "<Figure size 432x288 with 1 Axes>"
            ]
          },
          "metadata": {
            "tags": [],
            "needs_background": "light"
          }
        }
      ]
    }
  ]
}